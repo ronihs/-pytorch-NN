{
 "cells": [
  {
   "cell_type": "markdown",
   "metadata": {},
   "source": [
    "# PyTorch Test -  Roni Halim Saputra"
   ]
  },
  {
   "cell_type": "markdown",
   "metadata": {},
   "source": [
    "## Import common packages"
   ]
  },
  {
   "cell_type": "code",
   "execution_count": 1,
   "metadata": {},
   "outputs": [
    {
     "data": {
      "text/plain": [
       "device(type='cpu')"
      ]
     },
     "execution_count": 1,
     "metadata": {},
     "output_type": "execute_result"
    }
   ],
   "source": [
    "import torch\n",
    "from torch import nn, optim\n",
    "\n",
    "#cek device yang digunakan\n",
    "device = torch.device(\"cuda:0\" if torch.cuda.is_available() else \"cpu\")\n",
    "device"
   ]
  },
  {
   "cell_type": "markdown",
   "metadata": {},
   "source": [
    "## Datasets & DataLoader"
   ]
  },
  {
   "cell_type": "code",
   "execution_count": 2,
   "metadata": {},
   "outputs": [],
   "source": [
    "from torchvision import datasets, transforms\n",
    "from torch.utils.data import DataLoader"
   ]
  },
  {
   "cell_type": "code",
   "execution_count": 3,
   "metadata": {},
   "outputs": [],
   "source": [
    "bs = 50 #batch size\n",
    "\n",
    "transform = transforms.Compose([\n",
    "    transforms.ToTensor() #transform ke tipe data tensor\n",
    "])\n",
    "\n",
    "train_set = datasets.MNIST(root='./data',train=True, download=True, transform=transform)\n",
    "trainLoader = DataLoader(train_set, batch_size =bs, shuffle=True, num_workers=2)\n",
    "\n",
    "test_set = datasets.MNIST(root='./data',train=False, download=True, transform=transform)\n",
    "testLoader = DataLoader(test_set, batch_size =bs, shuffle=True, num_workers=2)"
   ]
  },
  {
   "cell_type": "code",
   "execution_count": 4,
   "metadata": {},
   "outputs": [
    {
     "data": {
      "text/plain": [
       "Dataset MNIST\n",
       "    Number of datapoints: 60000\n",
       "    Split: train\n",
       "    Root Location: ./data\n",
       "    Transforms (if any): Compose(\n",
       "                             ToTensor()\n",
       "                         )\n",
       "    Target Transforms (if any): None"
      ]
     },
     "execution_count": 4,
     "metadata": {},
     "output_type": "execute_result"
    }
   ],
   "source": [
    "train_set #saniti cek data train"
   ]
  },
  {
   "cell_type": "code",
   "execution_count": 5,
   "metadata": {},
   "outputs": [
    {
     "data": {
      "text/plain": [
       "Dataset MNIST\n",
       "    Number of datapoints: 10000\n",
       "    Split: test\n",
       "    Root Location: ./data\n",
       "    Transforms (if any): Compose(\n",
       "                             ToTensor()\n",
       "                         )\n",
       "    Target Transforms (if any): None"
      ]
     },
     "execution_count": 5,
     "metadata": {},
     "output_type": "execute_result"
    }
   ],
   "source": [
    "test_set #data test"
   ]
  },
  {
   "cell_type": "code",
   "execution_count": 6,
   "metadata": {},
   "outputs": [
    {
     "data": {
      "text/plain": [
       "(tensor([[[0.0000, 0.0000, 0.0000, 0.0000, 0.0000, 0.0000, 0.0000, 0.0000,\n",
       "           0.0000, 0.0000, 0.0000, 0.0000, 0.0000, 0.0000, 0.0000, 0.0000,\n",
       "           0.0000, 0.0000, 0.0000, 0.0000, 0.0000, 0.0000, 0.0000, 0.0000,\n",
       "           0.0000, 0.0000, 0.0000, 0.0000],\n",
       "          [0.0000, 0.0000, 0.0000, 0.0000, 0.0000, 0.0000, 0.0000, 0.0000,\n",
       "           0.0000, 0.0000, 0.0000, 0.0000, 0.0000, 0.0000, 0.0000, 0.0000,\n",
       "           0.0000, 0.0000, 0.0000, 0.0000, 0.0000, 0.0000, 0.0000, 0.0000,\n",
       "           0.0000, 0.0000, 0.0000, 0.0000],\n",
       "          [0.0000, 0.0000, 0.0000, 0.0000, 0.0000, 0.0000, 0.0000, 0.0000,\n",
       "           0.0000, 0.0000, 0.0000, 0.0000, 0.0000, 0.0000, 0.0000, 0.0000,\n",
       "           0.0000, 0.0000, 0.0000, 0.0000, 0.0000, 0.0000, 0.0000, 0.0000,\n",
       "           0.0000, 0.0000, 0.0000, 0.0000],\n",
       "          [0.0000, 0.0000, 0.0000, 0.0000, 0.0000, 0.0000, 0.0000, 0.0000,\n",
       "           0.0000, 0.0000, 0.0000, 0.0000, 0.0000, 0.0000, 0.0000, 0.0000,\n",
       "           0.0000, 0.0000, 0.0000, 0.0000, 0.0000, 0.0000, 0.0000, 0.0000,\n",
       "           0.0000, 0.0000, 0.0000, 0.0000],\n",
       "          [0.0000, 0.0000, 0.0000, 0.0000, 0.0000, 0.0000, 0.0000, 0.0000,\n",
       "           0.0000, 0.0000, 0.0000, 0.0000, 0.0000, 0.0000, 0.0000, 0.2000,\n",
       "           0.6235, 0.9922, 0.6235, 0.1961, 0.0000, 0.0000, 0.0000, 0.0000,\n",
       "           0.0000, 0.0000, 0.0000, 0.0000],\n",
       "          [0.0000, 0.0000, 0.0000, 0.0000, 0.0000, 0.0000, 0.0000, 0.0000,\n",
       "           0.0000, 0.0000, 0.0000, 0.0000, 0.0000, 0.0000, 0.1882, 0.9333,\n",
       "           0.9882, 0.9882, 0.9882, 0.9294, 0.0000, 0.0000, 0.0000, 0.0000,\n",
       "           0.0000, 0.0000, 0.0000, 0.0000],\n",
       "          [0.0000, 0.0000, 0.0000, 0.0000, 0.0000, 0.0000, 0.0000, 0.0000,\n",
       "           0.0000, 0.0000, 0.0000, 0.0000, 0.0000, 0.2118, 0.8902, 0.9922,\n",
       "           0.9882, 0.9373, 0.9137, 0.9882, 0.2235, 0.0235, 0.0000, 0.0000,\n",
       "           0.0000, 0.0000, 0.0000, 0.0000],\n",
       "          [0.0000, 0.0000, 0.0000, 0.0000, 0.0000, 0.0000, 0.0000, 0.0000,\n",
       "           0.0000, 0.0000, 0.0000, 0.0392, 0.2353, 0.8784, 0.9882, 0.9922,\n",
       "           0.9882, 0.7922, 0.3294, 0.9882, 0.9922, 0.4784, 0.0000, 0.0000,\n",
       "           0.0000, 0.0000, 0.0000, 0.0000],\n",
       "          [0.0000, 0.0000, 0.0000, 0.0000, 0.0000, 0.0000, 0.0000, 0.0000,\n",
       "           0.0000, 0.0000, 0.0000, 0.6392, 0.9882, 0.9882, 0.9882, 0.9922,\n",
       "           0.9882, 0.9882, 0.3765, 0.7412, 0.9922, 0.6549, 0.0000, 0.0000,\n",
       "           0.0000, 0.0000, 0.0000, 0.0000],\n",
       "          [0.0000, 0.0000, 0.0000, 0.0000, 0.0000, 0.0000, 0.0000, 0.0000,\n",
       "           0.0000, 0.0000, 0.2000, 0.9333, 0.9922, 0.9922, 0.7451, 0.4471,\n",
       "           0.9922, 0.8941, 0.1843, 0.3098, 1.0000, 0.6588, 0.0000, 0.0000,\n",
       "           0.0000, 0.0000, 0.0000, 0.0000],\n",
       "          [0.0000, 0.0000, 0.0000, 0.0000, 0.0000, 0.0000, 0.0000, 0.0000,\n",
       "           0.0000, 0.1882, 0.9333, 0.9882, 0.9882, 0.7020, 0.0471, 0.2941,\n",
       "           0.4745, 0.0824, 0.0000, 0.0000, 0.9922, 0.9529, 0.1961, 0.0000,\n",
       "           0.0000, 0.0000, 0.0000, 0.0000],\n",
       "          [0.0000, 0.0000, 0.0000, 0.0000, 0.0000, 0.0000, 0.0000, 0.0000,\n",
       "           0.1490, 0.6471, 0.9922, 0.9137, 0.8157, 0.3294, 0.0000, 0.0000,\n",
       "           0.0000, 0.0000, 0.0000, 0.0000, 0.9922, 0.9882, 0.6471, 0.0000,\n",
       "           0.0000, 0.0000, 0.0000, 0.0000],\n",
       "          [0.0000, 0.0000, 0.0000, 0.0000, 0.0000, 0.0000, 0.0000, 0.0275,\n",
       "           0.6980, 0.9882, 0.9412, 0.2784, 0.0745, 0.1098, 0.0000, 0.0000,\n",
       "           0.0000, 0.0000, 0.0000, 0.0000, 0.9922, 0.9882, 0.7647, 0.0000,\n",
       "           0.0000, 0.0000, 0.0000, 0.0000],\n",
       "          [0.0000, 0.0000, 0.0000, 0.0000, 0.0000, 0.0000, 0.0000, 0.2235,\n",
       "           0.9882, 0.9882, 0.2471, 0.0000, 0.0000, 0.0000, 0.0000, 0.0000,\n",
       "           0.0000, 0.0000, 0.0000, 0.0000, 0.9922, 0.9882, 0.7647, 0.0000,\n",
       "           0.0000, 0.0000, 0.0000, 0.0000],\n",
       "          [0.0000, 0.0000, 0.0000, 0.0000, 0.0000, 0.0000, 0.0000, 0.7765,\n",
       "           0.9922, 0.7451, 0.0000, 0.0000, 0.0000, 0.0000, 0.0000, 0.0000,\n",
       "           0.0000, 0.0000, 0.0000, 0.0000, 1.0000, 0.9922, 0.7686, 0.0000,\n",
       "           0.0000, 0.0000, 0.0000, 0.0000],\n",
       "          [0.0000, 0.0000, 0.0000, 0.0000, 0.0000, 0.0000, 0.2980, 0.9647,\n",
       "           0.9882, 0.4392, 0.0000, 0.0000, 0.0000, 0.0000, 0.0000, 0.0000,\n",
       "           0.0000, 0.0000, 0.0000, 0.0000, 0.9922, 0.9882, 0.5804, 0.0000,\n",
       "           0.0000, 0.0000, 0.0000, 0.0000],\n",
       "          [0.0000, 0.0000, 0.0000, 0.0000, 0.0000, 0.0000, 0.3333, 0.9882,\n",
       "           0.9020, 0.0980, 0.0000, 0.0000, 0.0000, 0.0000, 0.0000, 0.0000,\n",
       "           0.0000, 0.0000, 0.0275, 0.5294, 0.9922, 0.7294, 0.0471, 0.0000,\n",
       "           0.0000, 0.0000, 0.0000, 0.0000],\n",
       "          [0.0000, 0.0000, 0.0000, 0.0000, 0.0000, 0.0000, 0.3333, 0.9882,\n",
       "           0.8745, 0.0000, 0.0000, 0.0000, 0.0000, 0.0000, 0.0000, 0.0000,\n",
       "           0.0000, 0.0275, 0.5137, 0.9882, 0.8824, 0.2784, 0.0000, 0.0000,\n",
       "           0.0000, 0.0000, 0.0000, 0.0000],\n",
       "          [0.0000, 0.0000, 0.0000, 0.0000, 0.0000, 0.0000, 0.3333, 0.9882,\n",
       "           0.5686, 0.0000, 0.0000, 0.0000, 0.0000, 0.0000, 0.0000, 0.0000,\n",
       "           0.1882, 0.6471, 0.9882, 0.6784, 0.0000, 0.0000, 0.0000, 0.0000,\n",
       "           0.0000, 0.0000, 0.0000, 0.0000],\n",
       "          [0.0000, 0.0000, 0.0000, 0.0000, 0.0000, 0.0000, 0.3373, 0.9922,\n",
       "           0.8824, 0.0000, 0.0000, 0.0000, 0.0000, 0.0000, 0.0000, 0.4471,\n",
       "           0.9333, 0.9922, 0.6353, 0.0000, 0.0000, 0.0000, 0.0000, 0.0000,\n",
       "           0.0000, 0.0000, 0.0000, 0.0000],\n",
       "          [0.0000, 0.0000, 0.0000, 0.0000, 0.0000, 0.0000, 0.3333, 0.9882,\n",
       "           0.9765, 0.5725, 0.1882, 0.1137, 0.3333, 0.6980, 0.8824, 0.9922,\n",
       "           0.8745, 0.6549, 0.2196, 0.0000, 0.0000, 0.0000, 0.0000, 0.0000,\n",
       "           0.0000, 0.0000, 0.0000, 0.0000],\n",
       "          [0.0000, 0.0000, 0.0000, 0.0000, 0.0000, 0.0000, 0.3333, 0.9882,\n",
       "           0.9882, 0.9882, 0.8980, 0.8431, 0.9882, 0.9882, 0.9882, 0.7686,\n",
       "           0.5098, 0.0000, 0.0000, 0.0000, 0.0000, 0.0000, 0.0000, 0.0000,\n",
       "           0.0000, 0.0000, 0.0000, 0.0000],\n",
       "          [0.0000, 0.0000, 0.0000, 0.0000, 0.0000, 0.0000, 0.1098, 0.7804,\n",
       "           0.9882, 0.9882, 0.9922, 0.9882, 0.9882, 0.9137, 0.5686, 0.0000,\n",
       "           0.0000, 0.0000, 0.0000, 0.0000, 0.0000, 0.0000, 0.0000, 0.0000,\n",
       "           0.0000, 0.0000, 0.0000, 0.0000],\n",
       "          [0.0000, 0.0000, 0.0000, 0.0000, 0.0000, 0.0000, 0.0000, 0.0980,\n",
       "           0.5020, 0.9882, 0.9922, 0.9882, 0.5529, 0.1451, 0.0000, 0.0000,\n",
       "           0.0000, 0.0000, 0.0000, 0.0000, 0.0000, 0.0000, 0.0000, 0.0000,\n",
       "           0.0000, 0.0000, 0.0000, 0.0000],\n",
       "          [0.0000, 0.0000, 0.0000, 0.0000, 0.0000, 0.0000, 0.0000, 0.0000,\n",
       "           0.0000, 0.0000, 0.0000, 0.0000, 0.0000, 0.0000, 0.0000, 0.0000,\n",
       "           0.0000, 0.0000, 0.0000, 0.0000, 0.0000, 0.0000, 0.0000, 0.0000,\n",
       "           0.0000, 0.0000, 0.0000, 0.0000],\n",
       "          [0.0000, 0.0000, 0.0000, 0.0000, 0.0000, 0.0000, 0.0000, 0.0000,\n",
       "           0.0000, 0.0000, 0.0000, 0.0000, 0.0000, 0.0000, 0.0000, 0.0000,\n",
       "           0.0000, 0.0000, 0.0000, 0.0000, 0.0000, 0.0000, 0.0000, 0.0000,\n",
       "           0.0000, 0.0000, 0.0000, 0.0000],\n",
       "          [0.0000, 0.0000, 0.0000, 0.0000, 0.0000, 0.0000, 0.0000, 0.0000,\n",
       "           0.0000, 0.0000, 0.0000, 0.0000, 0.0000, 0.0000, 0.0000, 0.0000,\n",
       "           0.0000, 0.0000, 0.0000, 0.0000, 0.0000, 0.0000, 0.0000, 0.0000,\n",
       "           0.0000, 0.0000, 0.0000, 0.0000],\n",
       "          [0.0000, 0.0000, 0.0000, 0.0000, 0.0000, 0.0000, 0.0000, 0.0000,\n",
       "           0.0000, 0.0000, 0.0000, 0.0000, 0.0000, 0.0000, 0.0000, 0.0000,\n",
       "           0.0000, 0.0000, 0.0000, 0.0000, 0.0000, 0.0000, 0.0000, 0.0000,\n",
       "           0.0000, 0.0000, 0.0000, 0.0000]]]),\n",
       " 0)"
      ]
     },
     "execution_count": 6,
     "metadata": {},
     "output_type": "execute_result"
    }
   ],
   "source": [
    "train_set[1] # tensor X,y  data ke 1 "
   ]
  },
  {
   "cell_type": "code",
   "execution_count": 7,
   "metadata": {},
   "outputs": [
    {
     "data": {
      "text/plain": [
       "torch.Size([50, 1, 28, 28])"
      ]
     },
     "execution_count": 7,
     "metadata": {},
     "output_type": "execute_result"
    }
   ],
   "source": [
    "# cek dan test dataset dijadikan sesuatu yang iterable\n",
    "images, labels = next(iter(trainLoader))\n",
    "# dimensi image\n",
    "images.shape"
   ]
  },
  {
   "cell_type": "code",
   "execution_count": 8,
   "metadata": {},
   "outputs": [
    {
     "data": {
      "text/plain": [
       "['0 - zero',\n",
       " '1 - one',\n",
       " '2 - two',\n",
       " '3 - three',\n",
       " '4 - four',\n",
       " '5 - five',\n",
       " '6 - six',\n",
       " '7 - seven',\n",
       " '8 - eight',\n",
       " '9 - nine']"
      ]
     },
     "execution_count": 8,
     "metadata": {},
     "output_type": "execute_result"
    }
   ],
   "source": [
    "#cek kelas dataset\n",
    "train_set.classes"
   ]
  },
  {
   "cell_type": "code",
   "execution_count": 9,
   "metadata": {},
   "outputs": [
    {
     "data": {
      "text/plain": [
       "['0 - zero',\n",
       " '1 - one',\n",
       " '2 - two',\n",
       " '3 - three',\n",
       " '4 - four',\n",
       " '5 - five',\n",
       " '6 - six',\n",
       " '7 - seven',\n",
       " '8 - eight',\n",
       " '9 - nine']"
      ]
     },
     "execution_count": 9,
     "metadata": {},
     "output_type": "execute_result"
    }
   ],
   "source": [
    "#simpan jumlah class ke variable \n",
    "label2cat = train_set.classes\n",
    "label2cat"
   ]
  },
  {
   "cell_type": "markdown",
   "metadata": {},
   "source": [
    "## Arsitektur & Config"
   ]
  },
  {
   "cell_type": "code",
   "execution_count": 10,
   "metadata": {},
   "outputs": [],
   "source": [
    "from jcopdl.layers import linear_block\n",
    "from jcopdl.callback import Callback, set_config"
   ]
  },
  {
   "cell_type": "code",
   "execution_count": 11,
   "metadata": {},
   "outputs": [],
   "source": [
    "class MnistClassifier(nn.Module):\n",
    "    def __init__(self, input_size, n1, n2, output_size, dropout=0.2):\n",
    "        super().__init__()\n",
    "        self.fc = nn.Sequential(\n",
    "            nn.Flatten(), # Flatten\n",
    "            linear_block(input_size, n1, dropout=dropout), #linear -> fungsi aktivasi relu -> dropout\n",
    "            linear_block(n1, n2, dropout=dropout), #linear -> fungsi aktivasi relu -> dropout\n",
    "            linear_block(n2, output_size, activation=\"lsoftmax\") #linear -> fungsi aktivasi lsoftmax \n",
    "        )\n",
    "    def forward(self,x): #feed forward\n",
    "        return self.fc(x)"
   ]
  },
  {
   "cell_type": "code",
   "execution_count": 12,
   "metadata": {},
   "outputs": [],
   "source": [
    "#simpan jumlah parameter yang digunakan \n",
    "config = set_config({\n",
    "    \"input_size\":784, #jumlah input\n",
    "    \"n1\":100, #hidden layer 1\n",
    "    \"n2\":50,  #hidden layer 2\n",
    "    \"output_size\": len(train_set.classes), #jumlah output\n",
    "    \"dropout\":0.2 # nilai dropout\n",
    "})"
   ]
  },
  {
   "cell_type": "markdown",
   "metadata": {},
   "source": [
    "## Training Preparation "
   ]
  },
  {
   "cell_type": "code",
   "execution_count": 13,
   "metadata": {},
   "outputs": [],
   "source": [
    "model = MnistClassifier(config.input_size, config.n1, config.n2, config.output_size, config.dropout).to(device)\n",
    "criterion = nn.CrossEntropyLoss() #fungsi Loss\n",
    "optimizer = optim.Adam(model.parameters(),lr=0.001) #optimizer Adam\n",
    "callback = Callback(model, config, outdir=\"model\")"
   ]
  },
  {
   "cell_type": "code",
   "execution_count": 14,
   "metadata": {},
   "outputs": [],
   "source": [
    "def loop_fn(mode, dataset, dataloader, model, criterion, optimizer, device):\n",
    "    if mode == \"train\":\n",
    "        model.train()\n",
    "    elif mode == \"test\":\n",
    "        model.eval()\n",
    "    cost = correct = 0\n",
    "    for feature, target in dataloader:\n",
    "        feature, target = feature.to(device), target.to(device)\n",
    "        output = model(feature)\n",
    "        loss = criterion(output, target)\n",
    "        \n",
    "        if mode == \"train\":\n",
    "            loss.backward()\n",
    "            optimizer.step()\n",
    "            optimizer.zero_grad()\n",
    "        \n",
    "        cost += loss.item() * feature.shape[0]\n",
    "        correct += (output.argmax(1) == target).sum().item()\n",
    "    cost = cost / len(dataset)\n",
    "    acc = correct / len(dataset)\n",
    "    return cost, acc"
   ]
  },
  {
   "cell_type": "code",
   "execution_count": 15,
   "metadata": {},
   "outputs": [
    {
     "name": "stdout",
     "output_type": "stream",
     "text": [
      "Epoch: 20/20 | train_cost :0.0507| test_cost : 0.0751 |train_acc: 0.9836  | test_acc : 0.9801  "
     ]
    }
   ],
   "source": [
    "epochs = 20\n",
    "train_cost,test_cost =[],[]\n",
    "train_acc,test_acc = [], []\n",
    "for i in range(epochs):\n",
    "    cost, acc = loop_fn(\"train\", train_set, trainLoader, model, criterion, optimizer, device)\n",
    "    train_cost.append(cost)\n",
    "    train_acc.append(acc)\n",
    "    \n",
    "    with torch.no_grad():\n",
    "        cost, acc = loop_fn(\"test\", test_set, testLoader, model,criterion, optimizer, device)\n",
    "        test_cost.append(cost)\n",
    "        test_acc.append(acc)\n",
    "        \n",
    "    print(f\"\\rEpoch: {i+1}/{epochs} | train_cost :{train_cost[-1]:.4f}| test_cost : {test_cost[-1]:.4f} |\" \n",
    "          f\"train_acc: {train_acc[-1]:.4f}  | test_acc : {test_acc[-1]:.4f} \" , end=\" \" )\n",
    "        "
   ]
  },
  {
   "cell_type": "code",
   "execution_count": 16,
   "metadata": {},
   "outputs": [],
   "source": [
    "import matplotlib.pyplot as plt"
   ]
  },
  {
   "cell_type": "code",
   "execution_count": 17,
   "metadata": {},
   "outputs": [
    {
     "data": {
      "image/png": "[encoded data removed]",
      "text/plain": [
       "<Figure size 1080x360 with 2 Axes>"
      ]
     },
     "metadata": {
      "needs_background": "light"
     },
     "output_type": "display_data"
    }
   ],
   "source": [
    "plt.figure(figsize=(15,5))\n",
    "plt.subplot(121)\n",
    "plt.plot(train_cost, 'r-', label = 'Train')\n",
    "plt.plot(test_cost, 'b-', label = 'Test')\n",
    "plt.xlabel('epoch'); plt.ylabel('cost'); plt.legend();\n",
    "\n",
    "plt.subplot(122)\n",
    "plt.plot(train_acc, 'r-', label = 'Train')\n",
    "plt.plot(test_acc, 'b-', label = 'Test')\n",
    "plt.xlabel('epoch'); plt.ylabel('Accuracy'); plt.legend();"
   ]
  },
  {
   "cell_type": "code",
   "execution_count": 19,
   "metadata": {},
   "outputs": [
    {
     "data": {
      "text/plain": [
       "OrderedDict([('fc.1.block.linear.weight',\n",
       "              tensor([[-0.0337,  0.0192,  0.0303,  ..., -0.0242,  0.0241,  0.0319],\n",
       "                      [ 0.0055, -0.0220, -0.0110,  ..., -0.0079, -0.0108,  0.0082],\n",
       "                      [ 0.0292, -0.0255, -0.0322,  ..., -0.0090, -0.0101,  0.0137],\n",
       "                      ...,\n",
       "                      [-0.0046,  0.0259,  0.0005,  ..., -0.0208, -0.0279, -0.0019],\n",
       "                      [ 0.0338,  0.0124, -0.0279,  ..., -0.0323,  0.0235,  0.0249],\n",
       "                      [ 0.0161, -0.0079,  0.0030,  ...,  0.0207, -0.0270,  0.0172]])),\n",
       "             ('fc.1.block.linear.bias',\n",
       "              tensor([ 0.2085, -0.0381,  0.2022,  0.2188, -0.0647, -0.0497, -0.1208,  0.0101,\n",
       "                      -0.0259, -0.1347, -0.3711,  0.0302, -0.0690, -0.1806,  0.1073, -0.2766,\n",
       "                      -0.2263,  0.0892,  0.0828,  0.0450, -0.1174,  0.0797,  0.1013,  0.0402,\n",
       "                      -0.0930, -0.3373, -0.0006,  0.0840, -0.0478,  0.0283, -0.1231, -0.3378,\n",
       "                       0.2867,  0.1696, -0.2675,  0.0864,  0.0890,  0.2492,  0.0593,  0.0909,\n",
       "                       0.0661,  0.3672,  0.1000, -0.2987, -0.0422, -0.0347, -0.1133, -0.0523,\n",
       "                       0.1196, -0.0380,  0.1723,  0.0356,  0.1310, -0.1149,  0.0425,  0.0173,\n",
       "                       0.0138, -0.0786,  0.2949,  0.0410, -0.0426,  0.0884,  0.0482,  0.0856,\n",
       "                      -0.0645,  0.0097, -0.0526, -0.0856, -0.1472, -0.0392, -0.1050,  0.0462,\n",
       "                       0.0988, -0.2696,  0.2919,  0.1479, -0.1346, -0.0581, -0.1517, -0.3387,\n",
       "                       0.1690,  0.1525, -0.0752, -0.2690,  0.4405, -0.2218, -0.3680, -0.0176,\n",
       "                       0.1744,  0.1337, -0.1816,  0.0639,  0.0428, -0.0336, -0.1986, -0.0842,\n",
       "                       0.2697,  0.1150, -0.2439, -0.0590])),\n",
       "             ('fc.2.block.linear.weight',\n",
       "              tensor([[ 0.1335,  0.0508,  0.0095,  ...,  0.0457, -0.0703,  0.0380],\n",
       "                      [ 0.2638, -0.0131, -0.1518,  ...,  0.0245,  0.0136,  0.0050],\n",
       "                      [ 0.5193, -0.0022,  0.0888,  ...,  1.1646, -0.0956, -0.0285],\n",
       "                      ...,\n",
       "                      [-0.1596, -0.0392, -0.0245,  ..., -0.5385,  0.0637,  0.0595],\n",
       "                      [ 0.0094, -0.0119, -0.3949,  ..., -0.4829,  0.0114,  0.1815],\n",
       "                      [ 0.1985, -0.0566,  0.0201,  ...,  0.3743,  0.0355, -0.1136]])),\n",
       "             ('fc.2.block.linear.bias',\n",
       "              tensor([ 0.2312, -0.1900,  0.2814, -0.0497,  0.3597,  0.3808, -0.0089,  0.3050,\n",
       "                       0.1580, -0.0164,  0.1933, -0.1334, -0.0104, -0.1322,  0.3697,  0.0093,\n",
       "                       0.0017,  0.2817,  0.5461,  0.0413,  0.2052, -0.1351, -0.1153, -0.0702,\n",
       "                       0.0517, -0.4770,  0.2706,  0.2108,  0.2159, -0.0117,  0.3630,  0.2365,\n",
       "                       0.0306,  0.5969, -0.0354, -0.1190,  0.2586,  0.1805,  0.2859,  0.3697,\n",
       "                       0.3887,  0.2462, -0.1092, -0.0080,  0.1436,  0.0509,  0.1781, -0.1362,\n",
       "                      -0.1909,  0.0234])),\n",
       "             ('fc.3.block.linear.weight',\n",
       "              tensor([[-0.0933, -0.2828,  0.0737,  0.1511,  0.2044,  0.1998, -0.2330,  0.3302,\n",
       "                       -0.5607,  0.1561, -0.5775, -0.4874,  0.0477, -0.6391,  0.1257,  0.1895,\n",
       "                       -0.3102,  0.2131, -0.0511, -0.4038, -0.2663, -0.5490, -0.6146,  0.0639,\n",
       "                        0.1965, -0.2330, -0.4253, -0.5390,  0.1816,  0.0939,  0.1883, -0.1216,\n",
       "                        0.1198, -0.3226, -0.1621,  0.1803, -0.3297,  0.1266, -0.3256, -0.2591,\n",
       "                       -0.2425,  0.2221, -0.2939,  0.2289,  0.3848, -0.8361,  0.3612, -0.4520,\n",
       "                       -0.0982,  0.2616],\n",
       "                      [-0.7420, -0.5068,  0.2231, -0.3023, -0.3227, -0.2217,  0.3488, -0.3145,\n",
       "                        0.0833, -0.0261, -0.8051,  0.1907, -0.4976,  0.2147, -0.3010, -0.4001,\n",
       "                        0.2580,  0.2647,  0.1045,  0.1699,  0.2583,  0.2359,  0.2230, -0.2099,\n",
       "                       -0.6778,  0.2038, -0.6377,  0.2447, -0.6135,  0.1342, -0.6010,  0.1640,\n",
       "                       -0.4614,  0.3029,  0.3116, -0.0850, -0.3785, -0.6372, -0.6677,  0.2405,\n",
       "                        0.0901, -0.2987, -0.2900, -0.6139, -0.3766,  0.0200, -0.3102, -0.2475,\n",
       "                       -0.1285,  0.2416],\n",
       "                      [-0.4236,  0.2147, -0.6096, -0.2331, -0.0861,  0.1392, -0.3756, -0.3508,\n",
       "                        0.2282, -0.2743, -0.2990,  0.1917,  0.1642,  0.1725,  0.1927, -0.4293,\n",
       "                       -0.4122, -0.1580,  0.0300,  0.2129, -0.5384,  0.2570,  0.2097,  0.2126,\n",
       "                        0.0902,  0.1115,  0.2360, -0.3810,  0.1209,  0.1338, -0.0054, -0.3127,\n",
       "                        0.1609, -0.3635,  0.2156,  0.1003,  0.0042, -0.4037, -0.1075, -0.0047,\n",
       "                       -0.5549, -0.1761, -0.1473,  0.1286, -0.6223, -0.4493,  0.2753,  0.2052,\n",
       "                        0.2015,  0.1890],\n",
       "                      [-0.2975,  0.1741, -0.5518, -0.3298, -0.0282,  0.0449, -0.3831, -0.6628,\n",
       "                        0.1794,  0.1564,  0.1498,  0.1584,  0.0674,  0.1765, -0.5169,  0.1660,\n",
       "                       -0.4064, -0.5843,  0.0508,  0.1399,  0.2151,  0.2444, -0.5664,  0.2010,\n",
       "                       -0.3301,  0.1741,  0.0557, -0.3895, -0.1892,  0.1881,  0.1401,  0.2002,\n",
       "                        0.0419, -0.5667, -0.5814, -0.4902, -0.5526,  0.2216, -0.4066, -0.2295,\n",
       "                        0.0860, -0.2670, -0.0212, -0.2779,  0.0681,  0.1144, -0.3706,  0.2476,\n",
       "                        0.1768, -0.0935],\n",
       "                      [ 0.2826,  0.2216,  0.0296,  0.1973, -0.7435, -1.0234, -0.2977,  0.2899,\n",
       "                       -0.3702, -0.2610, -0.0989, -0.4605,  0.1211, -0.4863,  0.1988,  0.2279,\n",
       "                        0.2360,  0.0906,  0.1189, -0.3299, -0.0363,  0.1202, -0.1891, -0.5382,\n",
       "                        0.0283, -0.4671,  0.1478,  0.2458, -0.6347,  0.0915, -0.5584, -0.5221,\n",
       "                       -0.7139,  0.2804,  0.3079, -0.3001,  0.2874, -0.7399,  0.1628,  0.2095,\n",
       "                       -0.0827, -0.7970, -0.2668,  0.1333, -0.0214,  0.1263,  0.1748, -0.1927,\n",
       "                       -0.9294, -0.1075],\n",
       "                      [-0.0154,  0.1555,  0.1880,  0.2689, -0.1404, -0.1413,  0.1242, -0.2716,\n",
       "                       -0.3167,  0.1770,  0.1757, -0.3375,  0.1607,  0.1491, -0.0540,  0.1366,\n",
       "                       -0.6147, -0.5529, -0.7831, -0.2688, -0.4955, -0.3735, -0.0664, -0.4973,\n",
       "                       -0.6218,  0.2207, -0.2496,  0.1863, -0.0192,  0.1016,  0.0627,  0.2644,\n",
       "                        0.2061, -0.3147,  0.1256,  0.2073, -0.2005,  0.2483,  0.1694, -0.7902,\n",
       "                        0.0800,  0.2388,  0.2549, -0.0101, -0.4865,  0.0886, -0.3026, -0.1221,\n",
       "                        0.1726, -0.0328],\n",
       "                      [ 0.2812,  0.1260,  0.2084,  0.0346, -0.5054, -0.2481, -0.3579, -0.4949,\n",
       "                       -0.4551,  0.1489,  0.0264, -0.4146, -0.8195,  0.1382,  0.2084, -0.3544,\n",
       "                       -0.4424,  0.1939, -0.5989, -0.4961, -0.2831, -0.4192,  0.1738, -0.5069,\n",
       "                        0.1723, -0.5323, -0.6718,  0.2187,  0.1661,  0.1312, -0.1700,  0.1036,\n",
       "                        0.1755,  0.2204,  0.2186, -0.0248,  0.2408,  0.2255,  0.0092, -0.0354,\n",
       "                       -0.4260,  0.2084, -0.4346,  0.2363,  0.3886, -0.7458, -0.3445, -0.4692,\n",
       "                       -0.4613,  0.2511],\n",
       "                      [-0.2623, -0.5198, -0.0690,  0.2720,  0.2490, -0.0952,  0.2559,  0.3389,\n",
       "                        0.0932, -0.3654, -0.6419,  0.1931,  0.1668, -0.1411, -0.5329,  0.1109,\n",
       "                        0.1769,  0.1878, -0.0049,  0.2422,  0.1193,  0.2741,  0.0796,  0.1812,\n",
       "                       -0.3519, -0.2977,  0.0864, -0.2567,  0.1458, -0.2293, -0.6879, -0.4104,\n",
       "                       -0.5150, -0.2332, -0.1115,  0.2680, -0.3597, -0.3939,  0.0505,  0.2139,\n",
       "                       -0.5373, -0.3255,  0.2420, -0.4232,  0.1884,  0.0947, -0.4090,  0.2112,\n",
       "                        0.1065, -0.7141],\n",
       "                      [ 0.0658, -0.5782,  0.1724, -0.4555,  0.1787,  0.2223, -0.2876, -0.4133,\n",
       "                        0.1839, -0.5833,  0.1758, -0.0279, -0.0558, -0.0690,  0.2138, -0.2668,\n",
       "                       -0.6325, -0.0887,  0.1393,  0.1155,  0.0736, -0.2189, -0.0651, -0.2696,\n",
       "                       -0.2295, -0.4754,  0.2045,  0.1670,  0.1950, -0.0525,  0.1617,  0.1638,\n",
       "                        0.1933,  0.2811, -0.1789, -0.2829, -0.7218,  0.1469,  0.1531,  0.1420,\n",
       "                        0.0287,  0.2003, -0.3157, -0.4570, -0.7506,  0.0365, -0.5057, -0.5335,\n",
       "                       -0.0240, -0.3162],\n",
       "                      [ 0.2824,  0.1458,  0.0417, -0.1514,  0.2439, -0.5126, -0.1705,  0.0095,\n",
       "                       -0.4432,  0.3177,  0.2371, -0.7476,  0.1453, -0.5040, -0.3121,  0.0538,\n",
       "                        0.1749,  0.1279,  0.1130, -0.6223,  0.2152, -0.5327, -0.2378,  0.1215,\n",
       "                        0.1210, -0.1187,  0.1328, -0.0690, -0.4833, -0.7859,  0.1697, -0.4108,\n",
       "                       -0.3228,  0.1205, -0.6541, -0.4382,  0.2196, -0.1256,  0.1467,  0.1798,\n",
       "                        0.0574, -0.2467,  0.1947, -0.0963,  0.0604,  0.1117,  0.1845,  0.2134,\n",
       "                        0.1903, -0.3315]])),\n",
       "             ('fc.3.block.linear.bias',\n",
       "              tensor([-0.0732,  0.1420, -0.1936, -0.2343, -0.0592, -0.2893, -0.1361, -0.0908,\n",
       "                       0.5743,  0.0803]))])"
      ]
     },
     "execution_count": 19,
     "metadata": {},
     "output_type": "execute_result"
    }
   ],
   "source": [
    "  model.state_dict()"
   ]
  },
  {
   "cell_type": "markdown",
   "metadata": {},
   "source": [
    "## LoadBest Model"
   ]
  },
  {
   "cell_type": "code",
   "execution_count": 20,
   "metadata": {},
   "outputs": [],
   "source": [
    "#load pada notebook baru\n",
    "weights = torch.load(\"model/weights_best.pth\", map_location=\"cpu\")\n",
    "config = torch.load(\"model/configs.pth\" , map_location=ap\"cpu\")\n",
    "\n",
    "model = MnistClassifier(config.input_size, config.n1, config.n2, config.output_size, config.dropout)\n",
    "model.load_state_dict(weights)\n",
    "model = model.to(device)"
   ]
  },
  {
   "cell_type": "code",
   "execution_count": 21,
   "metadata": {},
   "outputs": [
    {
     "data": {
      "text/plain": [
       "MnistClassifier(\n",
       "  (fc): Sequential(\n",
       "    (0): Flatten(start_dim=1, end_dim=-1)\n",
       "    (1): LinearBlock(\n",
       "      (block): Sequential(\n",
       "        (linear): Linear(in_features=784, out_features=100, bias=True)\n",
       "        (relu): ReLU()\n",
       "        (do): Dropout(p=0.2, inplace=False)\n",
       "      )\n",
       "    )\n",
       "    (2): LinearBlock(\n",
       "      (block): Sequential(\n",
       "        (linear): Linear(in_features=100, out_features=50, bias=True)\n",
       "        (relu): ReLU()\n",
       "        (do): Dropout(p=0.2, inplace=False)\n",
       "      )\n",
       "    )\n",
       "    (3): LinearBlock(\n",
       "      (block): Sequential(\n",
       "        (linear): Linear(in_features=50, out_features=10, bias=True)\n",
       "        (lsoftmax): LogSoftmax(dim=1)\n",
       "      )\n",
       "    )\n",
       "  )\n",
       ")"
      ]
     },
     "execution_count": 21,
     "metadata": {},
     "output_type": "execute_result"
    }
   ],
   "source": [
    "model"
   ]
  },
  {
   "cell_type": "markdown",
   "metadata": {},
   "source": [
    "## Predict"
   ]
  },
  {
   "cell_type": "code",
   "execution_count": 22,
   "metadata": {},
   "outputs": [],
   "source": [
    "feature, target = next(iter(testLoader))\n",
    "feature, target = feature.to(device), target.to(device)"
   ]
  },
  {
   "cell_type": "code",
   "execution_count": 25,
   "metadata": {},
   "outputs": [
    {
     "data": {
      "text/plain": [
       "['1 - one',\n",
       " '5 - five',\n",
       " '6 - six',\n",
       " '9 - nine',\n",
       " '5 - five',\n",
       " '9 - nine',\n",
       " '5 - five',\n",
       " '3 - three',\n",
       " '2 - two',\n",
       " '6 - six',\n",
       " '8 - eight',\n",
       " '8 - eight',\n",
       " '2 - two',\n",
       " '7 - seven',\n",
       " '2 - two',\n",
       " '3 - three',\n",
       " '7 - seven',\n",
       " '7 - seven',\n",
       " '2 - two',\n",
       " '8 - eight',\n",
       " '7 - seven',\n",
       " '1 - one',\n",
       " '1 - one',\n",
       " '9 - nine',\n",
       " '7 - seven',\n",
       " '1 - one',\n",
       " '4 - four',\n",
       " '9 - nine',\n",
       " '5 - five',\n",
       " '2 - two',\n",
       " '3 - three',\n",
       " '1 - one',\n",
       " '8 - eight',\n",
       " '8 - eight',\n",
       " '9 - nine',\n",
       " '7 - seven',\n",
       " '4 - four',\n",
       " '0 - zero',\n",
       " '1 - one',\n",
       " '9 - nine',\n",
       " '3 - three',\n",
       " '2 - two',\n",
       " '7 - seven',\n",
       " '5 - five',\n",
       " '2 - two',\n",
       " '1 - one',\n",
       " '0 - zero',\n",
       " '9 - nine',\n",
       " '9 - nine',\n",
       " '7 - seven']"
      ]
     },
     "execution_count": 25,
     "metadata": {},
     "output_type": "execute_result"
    }
   ],
   "source": [
    "with torch.no_grad():\n",
    "    model.eval()\n",
    "    output = model(feature)\n",
    "    preds = output.argmax(1)\n",
    "[label2cat[pred] for pred in preds]"
   ]
  },
  {
   "cell_type": "code",
   "execution_count": 27,
   "metadata": {},
   "outputs": [
    {
     "data": {
      "text/plain": [
       "'3 - three'"
      ]
     },
     "execution_count": 27,
     "metadata": {},
     "output_type": "execute_result"
    }
   ],
   "source": [
    "label2cat[3] #prediksi data ke-3"
   ]
  },
  {
   "cell_type": "markdown",
   "metadata": {},
   "source": [
    "## Visualisasi"
   ]
  },
  {
   "cell_type": "code",
   "execution_count": 28,
   "metadata": {},
   "outputs": [
    {
     "data": {
      "image/png": "[encoded data removed]",
      "text/plain": [
       "<Figure size 1728x1728 with 36 Axes>"
      ]
     },
     "metadata": {
      "needs_background": "light"
     },
     "output_type": "display_data"
    }
   ],
   "source": [
    "fig, axes = plt.subplots(6,6,figsize=(24,24))\n",
    "for img, label, pred, ax in zip(feature, target, preds, axes.flatten()):\n",
    "    ax.imshow(img.view(28,28).cpu(), cmap='gray')\n",
    "    font= {\"color\": 'r'} if label != pred else {\"color\": 'g'}\n",
    "    labelbel, pred, =label2cat[label.item()], label2cat[pred.item()]\n",
    "    ax.set_title(f\"Label: {label} | Pred : {pred}\", fontdict=font);\n",
    "    ax.axis('off');"
   ]
  },
  {
   "cell_type": "code",
   "execution_count": null,
   "metadata": {},
   "outputs": [],
   "source": []
  }
 ],
 "metadata": {
  "kernelspec": {
   "display_name": "Python [conda env:ai] *",
   "language": "python",
   "name": "conda-env-ai-py"
  },
  "language_info": {
   "codemirror_mode": {
    "name": "ipython",
    "version": 3
   },
   "file_extension": ".py",
   "mimetype": "text/x-python",
   "name": "python",
   "nbconvert_exporter": "python",
   "pygments_lexer": "ipython3",
   "version": "3.8.5"
  }
 },
 "nbformat": 4,
 "nbformat_minor": 4
}
